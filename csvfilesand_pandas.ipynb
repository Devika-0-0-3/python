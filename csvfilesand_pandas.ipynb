{
  "nbformat": 4,
  "nbformat_minor": 0,
  "metadata": {
    "colab": {
      "provenance": [],
      "authorship_tag": "ABX9TyOXCPoe4yt77iXVax6mmg4P",
      "include_colab_link": true
    },
    "kernelspec": {
      "name": "python3",
      "display_name": "Python 3"
    },
    "language_info": {
      "name": "python"
    }
  },
  "cells": [
    {
      "cell_type": "markdown",
      "metadata": {
        "id": "view-in-github",
        "colab_type": "text"
      },
      "source": [
        "<a href=\"https://colab.research.google.com/github/Devika-0-0-3/python/blob/main/csvfilesand_pandas.ipynb\" target=\"_parent\"><img src=\"https://colab.research.google.com/assets/colab-badge.svg\" alt=\"Open In Colab\"/></a>"
      ]
    },
    {
      "cell_type": "code",
      "execution_count": 1,
      "metadata": {
        "colab": {
          "base_uri": "https://localhost:8080/"
        },
        "id": "K4rdWmJeRXzW",
        "outputId": "78e4bb05-f057-4ff1-8541-3d50e1f06b01"
      },
      "outputs": [
        {
          "output_type": "stream",
          "name": "stdout",
          "text": [
            "0    10\n",
            "1    20\n",
            "2    30\n",
            "3    40\n",
            "4    50\n",
            "dtype: int64\n"
          ]
        }
      ],
      "source": [
        "from pandas import *\n",
        "obj=Series([10,20,30,40,50])\n",
        "print(obj)"
      ]
    },
    {
      "cell_type": "code",
      "source": [
        "from pandas import *\n",
        "obj=Series([10,20,30,40,50],index=['a','b','c','d','e'],dtype='int16')\n",
        "print(obj)"
      ],
      "metadata": {
        "colab": {
          "base_uri": "https://localhost:8080/"
        },
        "id": "WZplMGyuXOrt",
        "outputId": "9eaa2787-4dcc-42d7-d80b-bca7087bff3d"
      },
      "execution_count": 4,
      "outputs": [
        {
          "output_type": "stream",
          "name": "stdout",
          "text": [
            "a    10\n",
            "b    20\n",
            "c    30\n",
            "d    40\n",
            "e    50\n",
            "dtype: int16\n"
          ]
        }
      ]
    },
    {
      "cell_type": "code",
      "source": [
        "d={\"devika\":24,\"firdo\":30,\"nayana\":47,\"parvathy\":53}\n",
        "obj=Series(d)\n",
        "print(obj)\n",
        "print(obj.size)\n",
        "print(obj.axes)\n",
        "print(obj.dtype)\n",
        "print(obj.empty)\n",
        "print(obj.ndim)\n",
        "print(obj.values)\n",
        "print(obj.head(1))\n",
        "print(obj.tail(2))"
      ],
      "metadata": {
        "colab": {
          "base_uri": "https://localhost:8080/"
        },
        "id": "koizHOR5Xv9d",
        "outputId": "b087a1d8-2cc7-4ad0-972d-f769aedf5306"
      },
      "execution_count": 11,
      "outputs": [
        {
          "output_type": "stream",
          "name": "stdout",
          "text": [
            "devika      24\n",
            "firdo       30\n",
            "nayana      47\n",
            "parvathy    53\n",
            "dtype: int64\n",
            "4\n",
            "[Index(['devika', 'firdo', 'nayana', 'parvathy'], dtype='object')]\n",
            "int64\n",
            "False\n",
            "1\n",
            "[24 30 47 53]\n",
            "devika    24\n",
            "dtype: int64\n",
            "nayana      47\n",
            "parvathy    53\n",
            "dtype: int64\n"
          ]
        }
      ]
    },
    {
      "cell_type": "code",
      "source": [
        "#creating a dataframe\n",
        "from pandas import *\n",
        "a=[\"devika\",\"firdo\",\"nayna\",\"paru\"]\n",
        "d=DataFrame(a)\n",
        "print(d)"
      ],
      "metadata": {
        "colab": {
          "base_uri": "https://localhost:8080/"
        },
        "id": "UqAv93YcadxY",
        "outputId": "c7783281-14d4-43d3-9d06-e41638ac1c6b"
      },
      "execution_count": 14,
      "outputs": [
        {
          "output_type": "stream",
          "name": "stdout",
          "text": [
            "        0\n",
            "0  devika\n",
            "1   firdo\n",
            "2   nayna\n",
            "3    paru\n"
          ]
        }
      ]
    },
    {
      "cell_type": "code",
      "source": [
        "#creating datframe from a dictionary\n",
        "from pandas import *\n",
        "d={\"Name\":[\"Devu\",\"firdo\",\"Nayan\",\"Paru\"],\"Age\":[20,21,22,23]}\n",
        "f=DataFrame(d)\n",
        "print(f)"
      ],
      "metadata": {
        "colab": {
          "base_uri": "https://localhost:8080/"
        },
        "id": "v_sQJh6gcpM9",
        "outputId": "02e8c4ff-e0e4-4237-a970-1e2384db4cc8"
      },
      "execution_count": 15,
      "outputs": [
        {
          "output_type": "stream",
          "name": "stdout",
          "text": [
            "    Name  Age\n",
            "0   Devu   20\n",
            "1  firdo   21\n",
            "2  Nayan   22\n",
            "3   Paru   23\n"
          ]
        }
      ]
    },
    {
      "cell_type": "code",
      "source": [
        "#dealing with rows and columns\n",
        "#select,add,rename,delete\n",
        "from pandas import *\n",
        "d={\"Name\":[\"a\",\"b\",\"c\",\"d\",\"e\"],\"Age\":[20,21,22,23,24],\"Address\":[\"Delhi\",\"Kerala\",\"Tamil Nadu\",\"Bangalore\",\"Lucknow\"],\"Qualification\":[\"Btech\",\"Mtech\",\"Msc\",\"Mca\",\"phd\"]}\n",
        "f=DataFrame(d)\n",
        "print(f)\n",
        "print(f[[\"Name\",\"Age\"]]) #column selection\n",
        "print(f.iloc[0])\n",
        "f.set_index(\"Name\",inplace=True)\n",
        "print(f.loc['a'])"
      ],
      "metadata": {
        "colab": {
          "base_uri": "https://localhost:8080/"
        },
        "id": "YKvXLGYSdkyi",
        "outputId": "3d8e1f2b-c943-48a6-89f5-17693823b677"
      },
      "execution_count": 97,
      "outputs": [
        {
          "output_type": "stream",
          "name": "stdout",
          "text": [
            "  Name  Age     Address Qualification\n",
            "0    a   20       Delhi         Btech\n",
            "1    b   21      Kerala         Mtech\n",
            "2    c   22  Tamil Nadu           Msc\n",
            "3    d   23   Bangalore           Mca\n",
            "4    e   24     Lucknow           phd\n",
            "  Name  Age\n",
            "0    a   20\n",
            "1    b   21\n",
            "2    c   22\n",
            "3    d   23\n",
            "4    e   24\n",
            "Name                 a\n",
            "Age                 20\n",
            "Address          Delhi\n",
            "Qualification    Btech\n",
            "Name: 0, dtype: object\n",
            "Age                 20\n",
            "Address          Delhi\n",
            "Qualification    Btech\n",
            "Name: a, dtype: object\n"
          ]
        }
      ]
    },
    {
      "cell_type": "code",
      "source": [
        "#working with null values\n",
        "from pandas import *\n",
        "import numpy as np\n",
        "d={\"name\":[\"a\",\"b\",np.nan],\"age\":[1,np.nan,3]}\n",
        "f=DataFrame(d)\n",
        "print(f)\n",
        "print(f.isnull())\n",
        "print(f.notnull())"
      ],
      "metadata": {
        "colab": {
          "base_uri": "https://localhost:8080/"
        },
        "id": "qfi31ySrjwBW",
        "outputId": "39d667a4-e1c7-40b4-ecc7-8c5039f1ea8b"
      },
      "execution_count": 47,
      "outputs": [
        {
          "output_type": "stream",
          "name": "stdout",
          "text": [
            "  name  age\n",
            "0    a  1.0\n",
            "1    b  NaN\n",
            "2  NaN  3.0\n",
            "    name    age\n",
            "0  False  False\n",
            "1  False   True\n",
            "2   True  False\n",
            "    name    age\n",
            "0   True   True\n",
            "1   True  False\n",
            "2  False   True\n"
          ]
        }
      ]
    },
    {
      "cell_type": "markdown",
      "source": [],
      "metadata": {
        "id": "G3iRJ7_HlwBg"
      }
    },
    {
      "cell_type": "code",
      "source": [
        "#filling missing ones fillna(),replace(),interpolate()\n",
        "from pandas import *\n",
        "import numpy as np\n",
        "d={\"name\":[\"a\",\"b\",np.nan],\"age\":[1,np.nan,3]}\n",
        "f=DataFrame(d)\n",
        "print(f)\n",
        "print(f.fillna(1))\n"
      ],
      "metadata": {
        "colab": {
          "base_uri": "https://localhost:8080/"
        },
        "id": "tzXcQCxglY-Z",
        "outputId": "2b31c604-fd61-492d-a15c-3d0f5a04d575"
      },
      "execution_count": 53,
      "outputs": [
        {
          "output_type": "stream",
          "name": "stdout",
          "text": [
            "  name  age\n",
            "0    a  1.0\n",
            "1    b  NaN\n",
            "2  NaN  3.0\n",
            "  name  age\n",
            "0    a  1.0\n",
            "1    b  1.0\n",
            "2    1  3.0\n"
          ]
        }
      ]
    },
    {
      "cell_type": "code",
      "source": [
        "from pandas import *\n",
        "import numpy as np\n",
        "d={\"name\":[\"a\",\"b\",np.nan],\"age\":[1,np.nan,3]}\n",
        "f=DataFrame(d)\n",
        "print(f)\n",
        "print(f.interpolate())"
      ],
      "metadata": {
        "colab": {
          "base_uri": "https://localhost:8080/"
        },
        "id": "9Y6Ua3UFl6VI",
        "outputId": "298582d7-93cd-43f5-bad5-cc52885f223e"
      },
      "execution_count": 50,
      "outputs": [
        {
          "output_type": "stream",
          "name": "stdout",
          "text": [
            "  name  age\n",
            "0    a  1.0\n",
            "1    b  NaN\n",
            "2  NaN  3.0\n",
            "  name  age\n",
            "0    a  1.0\n",
            "1    b  2.0\n",
            "2  NaN  3.0\n"
          ]
        }
      ]
    },
    {
      "cell_type": "code",
      "source": [
        "from pandas import *\n",
        "import numpy as np\n",
        "d={\"name\":[\"a\",\"b\",np.nan],\"age\":[1,np.nan,3]}\n",
        "f=DataFrame(d)\n",
        "print(f)\n",
        "print(f.replace(np.nan,-1))\n",
        "print(f.T)"
      ],
      "metadata": {
        "colab": {
          "base_uri": "https://localhost:8080/"
        },
        "id": "8gNljFUWmqcL",
        "outputId": "922ecae2-8f68-453b-9630-e42bec75c1de"
      },
      "execution_count": 54,
      "outputs": [
        {
          "output_type": "stream",
          "name": "stdout",
          "text": [
            "  name  age\n",
            "0    a  1.0\n",
            "1    b  NaN\n",
            "2  NaN  3.0\n",
            "  name  age\n",
            "0    a  1.0\n",
            "1    b -1.0\n",
            "2   -1  3.0\n",
            "        0    1    2\n",
            "name    a    b  NaN\n",
            "age   1.0  NaN  3.0\n"
          ]
        }
      ]
    },
    {
      "cell_type": "code",
      "source": [
        "#pandas read csv() and to csv() functions\n",
        "from pandas import *\n",
        "d={\"name\":[\"devu\",\"firdo\",\"nayan\",\"paru\"],\"age\":[20,21,22,23],\"marks\":[90,91,92,93]}\n",
        "f=DataFrame(d)\n",
        "print(f)\n",
        "f.to_csv(\"stud.csv\",index=False)\n",
        "f=read_csv(\"stud.csv\",index_col=\"name\")\n",
        "print(f)"
      ],
      "metadata": {
        "colab": {
          "base_uri": "https://localhost:8080/"
        },
        "id": "UsDXQnMRne9r",
        "outputId": "f407aadc-6a8e-437f-a510-f243584735e6"
      },
      "execution_count": 86,
      "outputs": [
        {
          "output_type": "stream",
          "name": "stdout",
          "text": [
            "    name  age  marks\n",
            "0   devu   20     90\n",
            "1  firdo   21     91\n",
            "2  nayan   22     92\n",
            "3   paru   23     93\n",
            "       age  marks\n",
            "name             \n",
            "devu    20     90\n",
            "firdo   21     91\n",
            "nayan   22     92\n",
            "paru    23     93\n"
          ]
        }
      ]
    },
    {
      "cell_type": "code",
      "source": [
        "import numpy as np\n",
        "import pandas as pd\n",
        "d={\"rollno\":[1,2,3,np.nan],\"name\":[\"a\",\"b\",np.nan,\"d\"],\"place\":[np.nan,\"TN\",\"UP\",\"MP\"],\"mark\":[10,20,30,40]}\n",
        "f=pd.DataFrame(d)\n",
        "f.to_csv(\"mark.csv\",index=False)\n",
        "f=read_csv(\"mark.csv\",index_col=\"rollno\")\n",
        "print(f)\n",
        "print(\"\\nStatistical info of numerical column\\n\",f.describe())\n",
        "print(\"\\nColumns\\n\",f.columns)\n",
        "print(\"\\nSize\\n\",f.size)"
      ],
      "metadata": {
        "colab": {
          "base_uri": "https://localhost:8080/"
        },
        "id": "QX5PVJtRypWK",
        "outputId": "a6c5e8b9-3388-4d20-b44c-cedef1a01d84"
      },
      "execution_count": 131,
      "outputs": [
        {
          "output_type": "stream",
          "name": "stdout",
          "text": [
            "       name place  mark\n",
            "rollno                 \n",
            "1.0       a   NaN    10\n",
            "2.0       b    TN    20\n",
            "3.0     NaN    UP    30\n",
            "NaN       d    MP    40\n",
            "\n",
            "Statistical info of numerical column\n",
            "             mark\n",
            "count   4.000000\n",
            "mean   25.000000\n",
            "std    12.909944\n",
            "min    10.000000\n",
            "25%    17.500000\n",
            "50%    25.000000\n",
            "75%    32.500000\n",
            "max    40.000000\n",
            "\n",
            "Columns\n",
            " Index(['name', 'place', 'mark'], dtype='object')\n",
            "\n",
            "Size\n",
            " 12\n"
          ]
        }
      ]
    },
    {
      "cell_type": "code",
      "source": [
        "import numpy as np\n",
        "import pandas as pd\n",
        "d={\"rollno\":[1,2,3,np.nan],\"name\":[\"a\",\"b\",np.nan,\"d\"],\"place\":[np.nan,\"TN\",\"UP\",\"MP\"],\"mark\":[10,20,30,40]}\n",
        "f=pd.DataFrame(d)\n",
        "f.to_csv(\"mark.csv\",index=False)\n",
        "f=pd.read_csv(\"mark.csv\",index_col=\"rollno\")\n",
        "print(f)\n",
        "print(\"\\nData types\\n\",f.dtypes)\n",
        "print(\"\\nShape\\n\",f.shape)\n",
        "print(\"\\nIndex and length of index\\n\",f.index,len(f.index))"
      ],
      "metadata": {
        "colab": {
          "base_uri": "https://localhost:8080/"
        },
        "id": "EZsMJguC0rNc",
        "outputId": "4a378e47-8892-42bb-904a-e8be03b2d8ed"
      },
      "execution_count": 84,
      "outputs": [
        {
          "output_type": "stream",
          "name": "stdout",
          "text": [
            "       name place  mark\n",
            "rollno                 \n",
            "1.0       a   NaN    10\n",
            "2.0       b    TN    20\n",
            "3.0     NaN    UP    30\n",
            "NaN       d    MP    40\n",
            "\n",
            "Data types\n",
            " name     object\n",
            "place    object\n",
            "mark      int64\n",
            "dtype: object\n",
            "\n",
            "Shape\n",
            " (4, 3)\n",
            "\n",
            "Index and length of index\n",
            " Index([1.0, 2.0, 3.0, nan], dtype='float64', name='rollno') 4\n"
          ]
        }
      ]
    },
    {
      "cell_type": "code",
      "source": [
        "import numpy as np\n",
        "import pandas as pd\n",
        "d={\"rollno\":[1,2,3,np.nan],\"name\":[\"a\",\"b\",np.nan,\"d\"],\"place\":[np.nan,\"TN\",\"UP\",\"MP\"],\"mark\":[10,20,30,40]}\n",
        "f=pd.DataFrame(d)\n",
        "f.to_csv(\"mark.csv\",index=False)\n",
        "f=pd.read_csv(\"mark.csv\",index_col=\"rollno\")\n",
        "print(f)\n",
        "print(\"\\nStatistical functions\\n\")\n",
        "print(\"\\nsum\\n\",f['mark'].sum())\n",
        "print(\"\\nmean\\n\",f['mark'].mean())\n",
        "print(\"\\nmax\\n\",f['mark'].max())\n",
        "print(\"\\nmin\\n\",f['mark'].min())\n",
        "print(\"\\nvar\\n\",f['mark'].var())\n",
        "print(\"\\nstandard deviation\\n\",f['mark'].std())\n"
      ],
      "metadata": {
        "colab": {
          "base_uri": "https://localhost:8080/"
        },
        "id": "HpbrC1tz1pcv",
        "outputId": "15822374-7853-4db3-c400-83be287adb1f"
      },
      "execution_count": 81,
      "outputs": [
        {
          "output_type": "stream",
          "name": "stdout",
          "text": [
            "       name place  mark\n",
            "rollno                 \n",
            "1.0       a   NaN    10\n",
            "2.0       b    TN    20\n",
            "3.0     NaN    UP    30\n",
            "NaN       d    MP    40\n",
            "\n",
            "Statistical functions\n",
            "\n",
            "\n",
            "sum\n",
            " 100\n",
            "\n",
            "mean\n",
            " 25.0\n",
            "\n",
            "max\n",
            " 40\n",
            "\n",
            "min\n",
            " 10\n",
            "\n",
            "var\n",
            " 166.66666666666666\n",
            "\n",
            "standard deviation\n",
            " 12.909944487358056\n"
          ]
        }
      ]
    },
    {
      "cell_type": "code",
      "source": [
        "import numpy as np\n",
        "import pandas as pd\n",
        "d={\"rollno\":[1,2,3,np.nan],\"name\":[\"a\",\"b\",np.nan,\"d\"],\"place\":[np.nan,\"TN\",\"UP\",\"MP\"],\"mark\":[10,20,30,40]}\n",
        "f=pd.DataFrame(d)\n",
        "f.to_csv(\"mark.csv\",index=False)\n",
        "f=pd.read_csv(\"mark.csv\",index_col=\"rollno\")\n",
        "print(f)\n",
        "print(\"\\nFirst 2 rows\\n\",f.head(2))\n",
        "print(\"\\nLast 2 rows\\n\",f.tail(2))\n",
        "print(\"\\nData from 0,1,2 rows\\n\")\n",
        "print(f.iloc[0:3])\n",
        "print(\"\\nMark column values\\n\",f[\"mark\"])"
      ],
      "metadata": {
        "colab": {
          "base_uri": "https://localhost:8080/"
        },
        "id": "WZTLSY6H1smu",
        "outputId": "37974127-7da9-4bc2-9647-0fc80f22fd69"
      },
      "execution_count": 98,
      "outputs": [
        {
          "output_type": "stream",
          "name": "stdout",
          "text": [
            "       name place  mark\n",
            "rollno                 \n",
            "1.0       a   NaN    10\n",
            "2.0       b    TN    20\n",
            "3.0     NaN    UP    30\n",
            "NaN       d    MP    40\n",
            "\n",
            "First 2 rows\n",
            "        name place  mark\n",
            "rollno                 \n",
            "1.0       a   NaN    10\n",
            "2.0       b    TN    20\n",
            "\n",
            "Last 2 rows\n",
            "        name place  mark\n",
            "rollno                 \n",
            "3.0     NaN    UP    30\n",
            "NaN       d    MP    40\n",
            "\n",
            "Data from 0,1,2 rows\n",
            "\n",
            "       name place  mark\n",
            "rollno                 \n",
            "1.0       a   NaN    10\n",
            "2.0       b    TN    20\n",
            "3.0     NaN    UP    30\n",
            "\n",
            "Mark column values\n",
            " rollno\n",
            "1.0    10\n",
            "2.0    20\n",
            "3.0    30\n",
            "NaN    40\n",
            "Name: mark, dtype: int64\n"
          ]
        }
      ]
    },
    {
      "cell_type": "code",
      "source": [
        "import numpy as np\n",
        "import pandas as pd\n",
        "d={\"rollno\":[1,2,3,np.nan],\"name\":[\"a\",\"b\",np.nan,\"d\"],\"place\":[np.nan,\"TN\",\"UP\",\"MP\"],\"mark\":[10,20,30,40]}\n",
        "f=pd.DataFrame(d)\n",
        "f.to_csv(\"mark.csv\",index=False)#for removing unmaed index\n",
        "f=pd.read_csv(\"mark.csv\",index_col=\"rollno\")\n",
        "print(f)\n",
        "print(\"\\nrows where marks >20\\n\",f[f['mark']>20])\n",
        "print(\"\\n0,1,2 rows ans 0,2 column\\n\",f.iloc[0:3,[0,2]])\n",
        "\n"
      ],
      "metadata": {
        "colab": {
          "base_uri": "https://localhost:8080/"
        },
        "id": "hvLPSJWb8A6C",
        "outputId": "b651ae58-4618-4a61-829b-ba367184a027"
      },
      "execution_count": 110,
      "outputs": [
        {
          "output_type": "stream",
          "name": "stdout",
          "text": [
            "       name place  mark\n",
            "rollno                 \n",
            "1.0       a   NaN    10\n",
            "2.0       b    TN    20\n",
            "3.0     NaN    UP    30\n",
            "NaN       d    MP    40\n",
            "\n",
            "rows where marks >20\n",
            "        name place  mark\n",
            "rollno                 \n",
            "3.0     NaN    UP    30\n",
            "NaN       d    MP    40\n",
            "\n",
            "0,1,2 rows ans 0,2 column\n",
            "        name  mark\n",
            "rollno           \n",
            "1.0       a    10\n",
            "2.0       b    20\n",
            "3.0     NaN    30\n"
          ]
        }
      ]
    },
    {
      "cell_type": "code",
      "source": [
        "import numpy as np\n",
        "import pandas as pd\n",
        "d={\"rollno\":[1,2,3,np.nan],\"name\":[\"a\",\"b\",np.nan,\"d\"],\"place\":[np.nan,\"TN\",\"UP\",\"MP\"],\"mark\":[10,20,30,40]}\n",
        "f=pd.DataFrame(d)\n",
        "f.to_csv(\"mark.csv\",index=False)#for removing unmaed index\n",
        "f=pd.read_csv(\"mark.csv\",index_col=\"rollno\")\n",
        "print(f)\n",
        "print(\"\\nDescending order of marks\\n\",f.sort_values(by=\"mark\",ascending=False))\n",
        "print(\"\\nuse agg function to compute all the values\\n\",f['mark'].agg(['max','min','mean','count','sum','prod']))"
      ],
      "metadata": {
        "colab": {
          "base_uri": "https://localhost:8080/"
        },
        "id": "LM3mJykT82n6",
        "outputId": "dd8ee428-73c2-4c4e-ea75-21ed70d3742a"
      },
      "execution_count": 128,
      "outputs": [
        {
          "output_type": "stream",
          "name": "stdout",
          "text": [
            "       name place  mark\n",
            "rollno                 \n",
            "1.0       a   NaN    10\n",
            "2.0       b    TN    20\n",
            "3.0     NaN    UP    30\n",
            "NaN       d    MP    40\n",
            "\n",
            "Descending order of marks\n",
            "        name place  mark\n",
            "rollno                 \n",
            "NaN       d    MP    40\n",
            "3.0     NaN    UP    30\n",
            "2.0       b    TN    20\n",
            "1.0       a   NaN    10\n",
            "\n",
            "use agg function to compute all the values\n",
            " max          40.0\n",
            "min          10.0\n",
            "mean         25.0\n",
            "count         4.0\n",
            "sum         100.0\n",
            "prod     240000.0\n",
            "Name: mark, dtype: float64\n"
          ]
        }
      ]
    },
    {
      "cell_type": "code",
      "source": [
        "import numpy as np\n",
        "import pandas as pd\n",
        "d={\"rollno\":[1,2,3,np.nan],\"name\":[\"a\",\"b\",np.nan,\"d\"],\"place\":[np.nan,\"TN\",\"UP\",\"MP\"],\"mark\":[50,20,30,40]}\n",
        "f=pd.DataFrame(d)\n",
        "f.to_csv(\"mark.csv\",index=False)#for removing unmaed index\n",
        "f=pd.read_csv(\"mark.csv\",index_col=\"rollno\")\n",
        "print(f)\n",
        "print(\"\\nMedian\\n\",f.sort_values(by=\"mark\",ascending=False)['mark'].median())\n",
        "print(\"\\nMode\\n\",f.sort_values(by=\"mark\",ascending=False)['mark'].mode())\n",
        "print(\"\\nCount of marks\\n\",f[\"mark\"].value_counts())\n",
        "print(\"\\nGrouping data based on column value\",f.groupby('mark')['mark'].mean())"
      ],
      "metadata": {
        "colab": {
          "base_uri": "https://localhost:8080/"
        },
        "id": "dloLgjoVBYNg",
        "outputId": "52d62db4-c7e8-41ff-aab4-e8d8fccc1fcc"
      },
      "execution_count": 142,
      "outputs": [
        {
          "output_type": "stream",
          "name": "stdout",
          "text": [
            "       name place  mark\n",
            "rollno                 \n",
            "1.0       a   NaN    50\n",
            "2.0       b    TN    20\n",
            "3.0     NaN    UP    30\n",
            "NaN       d    MP    40\n",
            "\n",
            "Median\n",
            " 35.0\n",
            "\n",
            "Mode\n",
            " 0    20\n",
            "1    30\n",
            "2    40\n",
            "3    50\n",
            "Name: mark, dtype: int64\n",
            "\n",
            "Count of marks\n",
            " mark\n",
            "50    1\n",
            "20    1\n",
            "30    1\n",
            "40    1\n",
            "Name: count, dtype: int64\n",
            "\n",
            "Grouping data based on column value mark\n",
            "20    20.0\n",
            "30    30.0\n",
            "40    40.0\n",
            "50    50.0\n",
            "Name: mark, dtype: float64\n"
          ]
        }
      ]
    },
    {
      "cell_type": "code",
      "source": [],
      "metadata": {
        "id": "UVxiLLJsGhlB"
      },
      "execution_count": null,
      "outputs": []
    },
    {
      "cell_type": "code",
      "source": [
        "import matplotlib.pyplot as plt\n",
        "import numpy as np\n",
        "import pandas as pd\n",
        "d={\"rollno\":[1,2,3,np.nan],\"name\":[\"a\",\"b\",np.nan,\"d\"],\"place\":[np.nan,\"TN\",\"UP\",\"MP\"],\"mark\":[50,20,30,40]}\n",
        "f=pd.DataFrame(d)\n",
        "f.to_csv(\"mark.csv\",index=False)#for removing unmaed index\n",
        "f=pd.read_csv(\"mark.csv\",index_col=\"rollno\")\n",
        "print(f)\n",
        "plt.hist(f['mark'])\n",
        "plt.show()\n",
        "plt.scatter(f['mark'],f['mark'])\n",
        "plt.show()\n",
        "plt.pie(f['mark'])\n",
        "plt.show()"
      ],
      "metadata": {
        "colab": {
          "base_uri": "https://localhost:8080/",
          "height": 1000
        },
        "id": "oMg2UIyKGFvu",
        "outputId": "e6ed0a3c-a37b-499e-d76d-6095e3ac7406"
      },
      "execution_count": 152,
      "outputs": [
        {
          "output_type": "stream",
          "name": "stdout",
          "text": [
            "       name place  mark\n",
            "rollno                 \n",
            "1.0       a   NaN    50\n",
            "2.0       b    TN    20\n",
            "3.0     NaN    UP    30\n",
            "NaN       d    MP    40\n"
          ]
        },
        {
          "output_type": "display_data",
          "data": {
            "text/plain": [
              "<Figure size 640x480 with 1 Axes>"
            ],
            "image/png": "[encoded data removed]"
          },
          "metadata": {}
        },
        {
          "output_type": "display_data",
          "data": {
            "text/plain": [
              "<Figure size 640x480 with 1 Axes>"
            ],
            "image/png": "[encoded data removed]"
          },
          "metadata": {}
        },
        {
          "output_type": "display_data",
          "data": {
            "text/plain": [
              "<Figure size 640x480 with 1 Axes>"
            ],
            "image/png": "[encoded data removed]"
          },
          "metadata": {}
        }
      ]
    }
  ]
}