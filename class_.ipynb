{
  "nbformat": 4,
  "nbformat_minor": 0,
  "metadata": {
    "colab": {
      "provenance": [],
      "authorship_tag": "ABX9TyNp6V02D/TUsK53vNJEuvGb",
      "include_colab_link": true
    },
    "kernelspec": {
      "name": "python3",
      "display_name": "Python 3"
    },
    "language_info": {
      "name": "python"
    }
  },
  "cells": [
    {
      "cell_type": "markdown",
      "metadata": {
        "id": "view-in-github",
        "colab_type": "text"
      },
      "source": [
        "<a href=\"https://colab.research.google.com/github/Devika-0-0-3/python/blob/main/class_.ipynb\" target=\"_parent\"><img src=\"https://colab.research.google.com/assets/colab-badge.svg\" alt=\"Open In Colab\"/></a>"
      ]
    },
    {
      "cell_type": "code",
      "execution_count": 22,
      "metadata": {
        "id": "kVjqDJH97RMe",
        "colab": {
          "base_uri": "https://localhost:8080/"
        },
        "outputId": "531861c2-3d6d-4264-cf1a-d976a0a94f44"
      },
      "outputs": [
        {
          "output_type": "stream",
          "name": "stdout",
          "text": [
            "A student detail is created...\n",
            "A student detail is created...\n",
            "Name: Devika\n",
            "Branch: cse\n",
            "Year: 2021\n",
            "Name: Akhil\n",
            "Branch: mec\n",
            "Year: 2019\n"
          ]
        }
      ],
      "source": [
        "#creating class\n",
        "\n",
        "class student:\n",
        "  def fill_details(self,name,branch,year):\n",
        "    self.name=name\n",
        "    self.branch=branch\n",
        "    self.year=year\n",
        "    print(\"A student detail is created...\")\n",
        "\n",
        "  def print_details(self):\n",
        "    print(\"Name:\",self.name)\n",
        "    print(\"Branch:\",self.branch)\n",
        "    print(\"Year:\",self.year)\n",
        "\n",
        "#creating objects\n",
        "\n",
        "s1=student()\n",
        "s2=student()\n",
        "\n",
        "s1.fill_details('Devika','cse',2021)\n",
        "s2.fill_details('Akhil','mec',2019)\n",
        "\n",
        "s1.print_details()\n",
        "s2.print_details()\n"
      ]
    },
    {
      "cell_type": "code",
      "source": [
        "#complex number display\n",
        "class complex:\n",
        "  def __init__(self,r=0,i=0):\n",
        "    self.real=r\n",
        "    self.imag=i\n",
        "\n",
        "  def getNumber(self):\n",
        "    print(f'{self.real}+{self.imag}j')\n",
        "\n",
        "n=complex(2,3)\n",
        "#n.__init__(2,3)\n",
        "n.getNumber()"
      ],
      "metadata": {
        "colab": {
          "base_uri": "https://localhost:8080/"
        },
        "id": "NkBbZ8kpvF3j",
        "outputId": "911cbc80-5915-4796-ccd8-0dd6c27004c3"
      },
      "execution_count": 20,
      "outputs": [
        {
          "output_type": "stream",
          "name": "stdout",
          "text": [
            "2+3j\n"
          ]
        }
      ]
    },
    {
      "cell_type": "code",
      "source": [
        "#display employee details\n",
        "class employee:\n",
        "  def __init__(self,name,dept,salary):\n",
        "    self.name=name\n",
        "    self.dept=dept\n",
        "    self.salary=salary\n",
        "\n",
        "  def display(self):\n",
        "    print(\"NAME:\",self.name)\n",
        "    print(\"DEPT:\",self.dept)\n",
        "    print(\"SALARY:\",self.salary)\n",
        "\n",
        "e1=employee(\"DEVU\",\"SALES\",20000)\n",
        "e2=employee(\"MIYA\",\"PRODUCTION\",30000)\n",
        "e1.display()\n",
        "e2.display()"
      ],
      "metadata": {
        "colab": {
          "base_uri": "https://localhost:8080/"
        },
        "id": "scf6vnQhvGAi",
        "outputId": "3aef066c-a010-4daf-f144-92d53585f828"
      },
      "execution_count": 21,
      "outputs": [
        {
          "output_type": "stream",
          "name": "stdout",
          "text": [
            "NAME: DEVU\n",
            "DEPT: SALES\n",
            "SALARY: 20000\n",
            "NAME: MIYA\n",
            "DEPT: PRODUCTION\n",
            "SALARY: 30000\n"
          ]
        }
      ]
    },
    {
      "cell_type": "code",
      "source": [
        "#non-parameterized constructor\n",
        "class student:\n",
        "  def __init__(self):\n",
        "    print(\"This is non-parameterized constructor\")\n",
        "  def display(self,name):\n",
        "    print(\"Name:\",name)\n",
        "\n",
        "s1=student()\n",
        "s1.display(\"Devu\")"
      ],
      "metadata": {
        "colab": {
          "base_uri": "https://localhost:8080/"
        },
        "id": "0XwXZPB12GBu",
        "outputId": "731b846d-64d5-4775-8869-c6101b59279c"
      },
      "execution_count": 24,
      "outputs": [
        {
          "output_type": "stream",
          "name": "stdout",
          "text": [
            "This is non-parameterized constructor\n",
            "Name: Devu\n"
          ]
        }
      ]
    },
    {
      "cell_type": "code",
      "source": [
        "#parameterized python constructor\n",
        "class student:\n",
        "  def __init__(self,name):\n",
        "    self.n=name\n",
        "  def show(self):\n",
        "    print(\"NAME:\",self.n)\n",
        "\n",
        "s1=student(\"DEVU\")\n",
        "s1.show()"
      ],
      "metadata": {
        "colab": {
          "base_uri": "https://localhost:8080/"
        },
        "id": "5EulpxTL2-pW",
        "outputId": "def3a2c0-44fa-4875-a7cb-f686e8a7dd99"
      },
      "execution_count": 26,
      "outputs": [
        {
          "output_type": "stream",
          "name": "stdout",
          "text": [
            "NAME: DEVU\n"
          ]
        }
      ]
    },
    {
      "cell_type": "code",
      "source": [
        "#accessors-get-view or access and mutators-set-change or modify\n",
        "class fruit:\n",
        "  def __init__(self,name):\n",
        "    self.name=name\n",
        "  def setfruitname(self,name):\n",
        "    self.name=name\n",
        "  def etfruitname(self):\n",
        "    return self.name\n",
        "\n",
        "f1=fruit(\"Apple\")\n",
        "print(\"First fruit name:\",f1.getNumberetfruitname())\n",
        "f1.setfruitname(\"Grapes\")\n",
        "print(\"Second fruit name:\",f1.getfruitname())"
      ],
      "metadata": {
        "colab": {
          "base_uri": "https://localhost:8080/"
        },
        "id": "kCiYw1G34nr4",
        "outputId": "e2a0989c-7439-44c4-fc41-cb32ac6896e2"
      },
      "execution_count": 29,
      "outputs": [
        {
          "output_type": "stream",
          "name": "stdout",
          "text": [
            "First fruit name: Apple\n",
            "Second fruit name: Grapes\n"
          ]
        }
      ]
    },
    {
      "cell_type": "markdown",
      "source": [
        "# inheritance in python\n",
        "Code reusability,we can use existing\n",
        "class to create a new class rather than starting from a scratch.\n",
        "Child class acquires properties,data memebers and function from parent class.\n",
        "Syntax:-->class derived_class_name(base_class):\n",
        "Eg:class triangle(shape):bold text"
      ],
      "metadata": {
        "id": "xfc7Lcd87Sva"
      }
    },
    {
      "cell_type": "markdown",
      "source": [
        "\n",
        "\n",
        "#    Types of inheritance-->\n",
        "\n",
        "\n",
        "\n",
        "## * simple inheritance\n",
        "## *   multiple inheritance\n",
        "\n",
        "## *  hybrid inheritance\n",
        "\n",
        "\n",
        "## *  multilevel inheritance\n",
        "## *  hierarchical inheritance\n",
        "\n",
        "\n"
      ],
      "metadata": {
        "id": "yJ-rbXBS77fK"
      }
    },
    {
      "cell_type": "code",
      "source": [
        "#simple inheritance or single inheritance\n",
        "class person:\n",
        "  def __init__(self,name,age):\n",
        "    self.name=name\n",
        "    self.age=age\n",
        "\n",
        "  def getname(self):\n",
        "    return self.name\n",
        "\n",
        "  def getage(self):\n",
        "    return self.age\n",
        "\n",
        "  def isemployee(Self):\n",
        "    return False\n",
        "\n",
        "class employee(person):\n",
        "  def __init__(self,name,age):\n",
        "    person.__init__(self,name,age)\n",
        "  def isemployee(self):\n",
        "    return True\n",
        "\n",
        "p=person(\"Anu\",24)\n",
        "print(p.getname())\n",
        "print(p.isemployee())\n",
        "\n",
        "e=employee(\"Devu\",24)\n",
        "print(e.getname())\n",
        "print(e.isemployee())\n",
        "print(e.getage())"
      ],
      "metadata": {
        "colab": {
          "base_uri": "https://localhost:8080/"
        },
        "id": "a14q0CMk6Bjy",
        "outputId": "ee7bf0e8-86ca-407a-f43e-2a68dd654b78"
      },
      "execution_count": 43,
      "outputs": [
        {
          "output_type": "stream",
          "name": "stdout",
          "text": [
            "Anu\n",
            "False\n",
            "Devu\n",
            "True\n",
            "24\n"
          ]
        }
      ]
    },
    {
      "cell_type": "code",
      "source": [
        "#multiple inheritance\n",
        "class person: #parent class1\n",
        "  def __init__(self,name,age):\n",
        "    self.name=name\n",
        "    self.age=age\n",
        "  def displayage(self):\n",
        "    return self.age\n",
        "  def displayname(self):\n",
        "    return self.name\n",
        "\n",
        "class resident: #parent class2\n",
        "  def __init__(self,housename):\n",
        "    self.hn=housename\n",
        "  def displayhn(self):\n",
        "    return self.hn\n",
        "\n",
        "class employee(person,resident): #child class-employee\n",
        "  def __init__(self,name,age,housename):\n",
        "    person.__init__(self,name,age)\n",
        "    resident.__init__(self,housename)\n",
        "\n",
        "\n",
        "e=employee(\"Dev\",24,\"NSK\")\n",
        "print(e.displayage())\n",
        "print(e.displayname())\n",
        "print(e.displayhn())"
      ],
      "metadata": {
        "colab": {
          "base_uri": "https://localhost:8080/"
        },
        "id": "5b6hhA5e_azr",
        "outputId": "a7ea0e55-b5fe-41d8-f528-4bce97fe1d0a"
      },
      "execution_count": 38,
      "outputs": [
        {
          "output_type": "stream",
          "name": "stdout",
          "text": [
            "24\n",
            "Dev\n",
            "NSK\n"
          ]
        }
      ]
    },
    {
      "cell_type": "code",
      "source": [
        "#multiple inheritance\n",
        "class person: #parent class1\n",
        "  def __init__(self,name,age):\n",
        "    self.name=name\n",
        "    self.age=age\n",
        "  def displayage(self):\n",
        "    return self.age\n",
        "  def displayname(self):\n",
        "    return self.name\n",
        "\n",
        "class resident: #parent class2\n",
        "  def __init__(self,housename):\n",
        "    self.hn=housename\n",
        "  def displayhn(self):\n",
        "    return self.hn\n",
        "\n",
        "class employee(person,resident):\n",
        "  def __init__(self,name,age,housename,no):\n",
        "    person.__init__(self,name,age)\n",
        "    resident.__init__(self,housename)\n",
        "    self.no=no\n",
        "  def isemployee(self):\n",
        "    return True\n",
        "  def displayno(self):\n",
        "    return self.no\n",
        "\n",
        "e=employee(\"Dev\",24,\"NSK\",3)\n",
        "print(e.displayage())\n",
        "print(e.displayname())\n",
        "print(e.displayhn())\n",
        "print(e.isemployee())\n",
        "print(e.displayno())"
      ],
      "metadata": {
        "colab": {
          "base_uri": "https://localhost:8080/"
        },
        "id": "bwKd8BMCC-sz",
        "outputId": "c5f6c186-ff9f-4e3e-9580-7a5552b8c7ad"
      },
      "execution_count": 49,
      "outputs": [
        {
          "output_type": "stream",
          "name": "stdout",
          "text": [
            "24\n",
            "Dev\n",
            "NSK\n",
            "True\n",
            "3\n"
          ]
        }
      ]
    },
    {
      "cell_type": "code",
      "source": [
        "class a:\n",
        "  def first(self):\n",
        "    print(\"hi\")\n",
        "\n",
        "class b:\n",
        "  def second(self):\n",
        "    print(\"Hello\")\n",
        "\n",
        "class c(a,b):\n",
        "  def third(self):\n",
        "    print(\"Halo\")\n",
        "\n",
        "o=c()\n",
        "print(o.first())\n",
        "print(o.second())\n",
        "print(o.third())\n",
        "\n"
      ],
      "metadata": {
        "colab": {
          "base_uri": "https://localhost:8080/"
        },
        "id": "psJjH8OAPnuG",
        "outputId": "97089143-2ec8-438c-a68a-715eb0504b39"
      },
      "execution_count": 68,
      "outputs": [
        {
          "output_type": "stream",
          "name": "stdout",
          "text": [
            "hi\n",
            "None\n",
            "Hello\n",
            "None\n",
            "Halo\n",
            "None\n"
          ]
        }
      ]
    },
    {
      "cell_type": "code",
      "source": [
        "#resolving conflicts--> i want dev but it is giving firdo super(c)=a\n",
        "class a:\n",
        "  def __init__(self):\n",
        "    self.name=\"Dev\"\n",
        "    self.age=30\n",
        "  def getname(self):\n",
        "    return self.name\n",
        "\n",
        "class b:\n",
        "  def __init__(self):\n",
        "    self.name=\"Firdo\"\n",
        "    self.age=25\n",
        "  def getname(self):\n",
        "    return self.name\n",
        "\n",
        "\n",
        "class c(a,b):\n",
        "  def __init__(self):\n",
        "    a.__init__(self)\n",
        "    b.__init__(self) #same name for parameters and method\n",
        "\n",
        "    def getname(self):\n",
        "      return self.name\n",
        "\n",
        "o=c()\n",
        "\n",
        "print(o.getname())\n"
      ],
      "metadata": {
        "colab": {
          "base_uri": "https://localhost:8080/"
        },
        "id": "k2i_xac0HrJP",
        "outputId": "ac07410c-de89-4a6c-9cfc-e212ab9971cc"
      },
      "execution_count": 62,
      "outputs": [
        {
          "output_type": "stream",
          "name": "stdout",
          "text": [
            "Firdo\n"
          ]
        }
      ]
    },
    {
      "cell_type": "code",
      "source": [
        "class a:\n",
        "  def __init__(self):\n",
        "    super().__init__()\n",
        "    self.name=\"Dev\"\n",
        "    self.age=30\n",
        "  def getname(self):\n",
        "    return self.name\n",
        "\n",
        "class b:\n",
        "  def __init__(self):\n",
        "    super().__init__()\n",
        "    self.name=\"Firdo\"\n",
        "    self.age=25\n",
        "  def getname(self):\n",
        "    return self.name\n",
        "\n",
        "\n",
        "class c(a,b):\n",
        "  def __init__(self):\n",
        "    super().__init__()\n",
        "\n",
        "    def getname(self):\n",
        "      return self.name\n",
        "\n",
        "o=c()\n",
        "\n",
        "print(o.getname())\n"
      ],
      "metadata": {
        "colab": {
          "base_uri": "https://localhost:8080/"
        },
        "id": "bXEonwFcJH5P",
        "outputId": "42cab1c4-ac89-4a00-cc45-270869d58219"
      },
      "execution_count": 63,
      "outputs": [
        {
          "output_type": "stream",
          "name": "stdout",
          "text": [
            "Dev\n"
          ]
        }
      ]
    },
    {
      "cell_type": "code",
      "source": [
        "#multilevel inheritance\n",
        "class a:\n",
        "  def __init__(self,name,age):\n",
        "    self.name=name\n",
        "    self.age=age\n",
        "  def displayna(self):\n",
        "    return self.name,self.age\n",
        "\n",
        "class b(a):\n",
        "  def __init__(self,name,age,salary):\n",
        "    a.__init__(self,name,age)\n",
        "    self.salary=salary\n",
        "\n",
        "  def displaynas(self):\n",
        "    return self.name,self.age,self.salary\n",
        "\n",
        "class c(b):\n",
        "  def __init__(self,name,age,salary,hno):\n",
        "    b.__init__(self,name,age,salary)\n",
        "    self.hno=hno\n",
        "\n",
        "  def displayall(self):\n",
        "    return self.name,self.age,self.salary,self.hno\n",
        "\n",
        "o=c(\"DEvu\",24,2000,31)\n",
        "print(o.displayna())\n",
        "print(o.displaynas())\n",
        "print(o.displayall())\n",
        "\n"
      ],
      "metadata": {
        "colab": {
          "base_uri": "https://localhost:8080/"
        },
        "id": "JgYABjpELu_N",
        "outputId": "761aa2d7-e135-4d31-9ef2-00aa1a87b302"
      },
      "execution_count": 66,
      "outputs": [
        {
          "output_type": "stream",
          "name": "stdout",
          "text": [
            "('DEvu', 24)\n",
            "('DEvu', 24, 2000)\n",
            "('DEvu', 24, 2000, 31)\n"
          ]
        }
      ]
    },
    {
      "cell_type": "code",
      "source": [
        "#hierarchical inheritance\n",
        "class parent:\n",
        "  def fun1(self):\n",
        "    print(\"This is parent\")\n",
        "\n",
        "class child1(parent):\n",
        "  def fun2(self):\n",
        "    print(\"This is child1\")\n",
        "\n",
        "class child2(parent):\n",
        "  def fun3(self):\n",
        "    print(\"this is child2\")\n",
        "\n",
        "o1=child1()\n",
        "o1.fun2()\n",
        "o1.fun1()\n",
        "\n",
        "o2=child2()\n",
        "o2.fun3()\n",
        "o2.fun1()"
      ],
      "metadata": {
        "colab": {
          "base_uri": "https://localhost:8080/"
        },
        "id": "BBFUSpzUQciN",
        "outputId": "0e9b5539-0694-4a7d-8503-f405ccfd2c6a"
      },
      "execution_count": 71,
      "outputs": [
        {
          "output_type": "stream",
          "name": "stdout",
          "text": [
            "This is child1\n",
            "This is parent\n",
            "this is child2\n",
            "This is parent\n"
          ]
        }
      ]
    },
    {
      "cell_type": "markdown",
      "source": [
        "hybrid combine any inheritance code"
      ],
      "metadata": {
        "id": "dFZ32KaVSZ8y"
      }
    },
    {
      "cell_type": "code",
      "source": [
        "#super()\n",
        "class a:\n",
        "  def __init__(self,fname,lname):\n",
        "    self.fname=fname\n",
        "    self.lname=lname\n",
        "  def displayname(self):\n",
        "    print(self.fname , self.lname)\n",
        "\n",
        "class c(a):\n",
        "  def __init__(self,fname,lname):\n",
        "    super().__init__(fname,lname)\n",
        "\n",
        "o=c(\"Druv\",\"Hazel\")\n",
        "o.displayname()"
      ],
      "metadata": {
        "colab": {
          "base_uri": "https://localhost:8080/"
        },
        "id": "B-YBlLWVTHxm",
        "outputId": "46cbe9c1-8521-46e2-c7f5-710c406af511"
      },
      "execution_count": 79,
      "outputs": [
        {
          "output_type": "stream",
          "name": "stdout",
          "text": [
            "Druv Hazel\n"
          ]
        }
      ]
    },
    {
      "cell_type": "code",
      "source": [
        "#method overloading-->many methods with same name but different parameters\n",
        "class area:\n",
        "  def farea(self,a=None,b=None):\n",
        "    if a!=None and b!=None:\n",
        "      print(\"Rectangle:\",a*b)\n",
        "    elif a!=None:\n",
        "      print(\"Square:\",a*a)\n",
        "    else:\n",
        "      print(\"No figure\")\n",
        "\n",
        "o=area()\n",
        "o.farea()\n",
        "o.farea(2)\n",
        "o.farea(2,3)"
      ],
      "metadata": {
        "colab": {
          "base_uri": "https://localhost:8080/"
        },
        "id": "WbCUEti9Tn9D",
        "outputId": "e7fdad0e-07fd-4ebb-e4f4-2b0a7ed49319"
      },
      "execution_count": 81,
      "outputs": [
        {
          "output_type": "stream",
          "name": "stdout",
          "text": [
            "No figure\n",
            "Square: 4\n",
            "Rectangle: 6\n"
          ]
        }
      ]
    },
    {
      "cell_type": "code",
      "source": [
        "#method overriding\n",
        "#cannot override method in same class\n",
        "#parent class override ,method with same name and parameters create in child class\n",
        "class parent:\n",
        "  def __init__(self):\n",
        "    self.value=\"Parent inside\"\n",
        "  def show(self):\n",
        "    print(self.value)\n",
        "\n",
        "class child(parent):\n",
        "  def __init__(self):\n",
        "    self.value=\"Child iniside\"\n",
        "  def show(self):\n",
        "    print(self.value)\n",
        "\n",
        "o1=parent()\n",
        "o2=child()\n",
        "o1.show()\n",
        "o2.show()\n"
      ],
      "metadata": {
        "colab": {
          "base_uri": "https://localhost:8080/"
        },
        "id": "WNDVvmBgX7oC",
        "outputId": "90aca9eb-5c01-40fe-9ccf-6a1731fdb362"
      },
      "execution_count": 84,
      "outputs": [
        {
          "output_type": "stream",
          "name": "stdout",
          "text": [
            "Parent inside\n",
            "Child iniside\n"
          ]
        }
      ]
    },
    {
      "cell_type": "code",
      "source": [
        "#abstraction\n",
        "from abc import ABC,abstractmethod\n",
        "class parent(ABC):\n",
        "  def common(self):\n",
        "    print(\"I am the common of parent\")\n",
        "\n",
        "  @abstractmethod\n",
        "  def vary(self):\n",
        "    None\n",
        "\n",
        "class child1(parent):\n",
        "  def vary(self):\n",
        "    print(\"I am vary child1\")\n",
        "\n",
        "class child2(parent):\n",
        "  def vary(self):\n",
        "    print(\"I am vary child2\")\n",
        "\n",
        "o1=child1()\n",
        "o2=child2()\n",
        "o1.common()\n",
        "o1.vary()\n",
        "o2.common()\n",
        "o2.vary()\n"
      ],
      "metadata": {
        "colab": {
          "base_uri": "https://localhost:8080/"
        },
        "id": "_SFDi7tEaVr3",
        "outputId": "baa4cc4c-b63c-4392-aeb3-3332200c5336"
      },
      "execution_count": 90,
      "outputs": [
        {
          "output_type": "stream",
          "name": "stdout",
          "text": [
            "I am the common of parent\n",
            "I am vary child1\n",
            "I am the common of parent\n",
            "I am vary child2\n"
          ]
        }
      ]
    },
    {
      "cell_type": "code",
      "source": [
        "#exception handle\n",
        "#try except else\n",
        "a=True\n",
        "while a:\n",
        "\n",
        "  try:\n",
        "    x=int(input(\"Enter a number:\"))\n",
        "    res=50/x\n",
        "  except ValueError: #except(ValueError,ZeroDivisionError,TypeError)\n",
        "    print(\"The input is not an interger.Please try again\")\n",
        "  except ZeroDivisionError:\n",
        "    print(\"Zero division error try another number other than 0\")\n",
        "  else:\n",
        "    print(res)\n",
        "\n",
        "\n"
      ],
      "metadata": {
        "colab": {
          "base_uri": "https://localhost:8080/",
          "height": 460
        },
        "id": "M0KOWI3rj42z",
        "outputId": "b77b426d-813f-4ebe-868a-97f202810de7"
      },
      "execution_count": 107,
      "outputs": [
        {
          "output_type": "stream",
          "name": "stdout",
          "text": [
            "Enter a number:2.3\n",
            "The input is not an interger.Please try again\n",
            "Enter a number:0\n",
            "Zero division error try another number other than 0\n",
            "Enter a number:5\n",
            "10.0\n"
          ]
        },
        {
          "output_type": "error",
          "ename": "KeyboardInterrupt",
          "evalue": "Interrupted by user",
          "traceback": [
            "\u001b[0;31m---------------------------------------------------------------------------\u001b[0m",
            "\u001b[0;31mKeyboardInterrupt\u001b[0m                         Traceback (most recent call last)",
            "\u001b[0;32m<ipython-input-107-d46181df9249>\u001b[0m in \u001b[0;36m<cell line: 4>\u001b[0;34m()\u001b[0m\n\u001b[1;32m      5\u001b[0m \u001b[0;34m\u001b[0m\u001b[0m\n\u001b[1;32m      6\u001b[0m   \u001b[0;32mtry\u001b[0m\u001b[0;34m:\u001b[0m\u001b[0;34m\u001b[0m\u001b[0;34m\u001b[0m\u001b[0m\n\u001b[0;32m----> 7\u001b[0;31m     \u001b[0mx\u001b[0m\u001b[0;34m=\u001b[0m\u001b[0mint\u001b[0m\u001b[0;34m(\u001b[0m\u001b[0minput\u001b[0m\u001b[0;34m(\u001b[0m\u001b[0;34m\"Enter a number:\"\u001b[0m\u001b[0;34m)\u001b[0m\u001b[0;34m)\u001b[0m\u001b[0;34m\u001b[0m\u001b[0;34m\u001b[0m\u001b[0m\n\u001b[0m\u001b[1;32m      8\u001b[0m     \u001b[0mres\u001b[0m\u001b[0;34m=\u001b[0m\u001b[0;36m50\u001b[0m\u001b[0;34m/\u001b[0m\u001b[0mx\u001b[0m\u001b[0;34m\u001b[0m\u001b[0;34m\u001b[0m\u001b[0m\n\u001b[1;32m      9\u001b[0m   \u001b[0;32mexcept\u001b[0m \u001b[0mValueError\u001b[0m\u001b[0;34m:\u001b[0m \u001b[0;31m#except(ValueError,ZeroDivisionError,TypeError)\u001b[0m\u001b[0;34m\u001b[0m\u001b[0;34m\u001b[0m\u001b[0m\n",
            "\u001b[0;32m/usr/local/lib/python3.10/dist-packages/ipykernel/kernelbase.py\u001b[0m in \u001b[0;36mraw_input\u001b[0;34m(self, prompt)\u001b[0m\n\u001b[1;32m    849\u001b[0m                 \u001b[0;34m\"raw_input was called, but this frontend does not support input requests.\"\u001b[0m\u001b[0;34m\u001b[0m\u001b[0;34m\u001b[0m\u001b[0m\n\u001b[1;32m    850\u001b[0m             )\n\u001b[0;32m--> 851\u001b[0;31m         return self._input_request(str(prompt),\n\u001b[0m\u001b[1;32m    852\u001b[0m             \u001b[0mself\u001b[0m\u001b[0;34m.\u001b[0m\u001b[0m_parent_ident\u001b[0m\u001b[0;34m,\u001b[0m\u001b[0;34m\u001b[0m\u001b[0;34m\u001b[0m\u001b[0m\n\u001b[1;32m    853\u001b[0m             \u001b[0mself\u001b[0m\u001b[0;34m.\u001b[0m\u001b[0m_parent_header\u001b[0m\u001b[0;34m,\u001b[0m\u001b[0;34m\u001b[0m\u001b[0;34m\u001b[0m\u001b[0m\n",
            "\u001b[0;32m/usr/local/lib/python3.10/dist-packages/ipykernel/kernelbase.py\u001b[0m in \u001b[0;36m_input_request\u001b[0;34m(self, prompt, ident, parent, password)\u001b[0m\n\u001b[1;32m    893\u001b[0m             \u001b[0;32mexcept\u001b[0m \u001b[0mKeyboardInterrupt\u001b[0m\u001b[0;34m:\u001b[0m\u001b[0;34m\u001b[0m\u001b[0;34m\u001b[0m\u001b[0m\n\u001b[1;32m    894\u001b[0m                 \u001b[0;31m# re-raise KeyboardInterrupt, to truncate traceback\u001b[0m\u001b[0;34m\u001b[0m\u001b[0;34m\u001b[0m\u001b[0m\n\u001b[0;32m--> 895\u001b[0;31m                 \u001b[0;32mraise\u001b[0m \u001b[0mKeyboardInterrupt\u001b[0m\u001b[0;34m(\u001b[0m\u001b[0;34m\"Interrupted by user\"\u001b[0m\u001b[0;34m)\u001b[0m \u001b[0;32mfrom\u001b[0m \u001b[0;32mNone\u001b[0m\u001b[0;34m\u001b[0m\u001b[0;34m\u001b[0m\u001b[0m\n\u001b[0m\u001b[1;32m    896\u001b[0m             \u001b[0;32mexcept\u001b[0m \u001b[0mException\u001b[0m \u001b[0;32mas\u001b[0m \u001b[0me\u001b[0m\u001b[0;34m:\u001b[0m\u001b[0;34m\u001b[0m\u001b[0;34m\u001b[0m\u001b[0m\n\u001b[1;32m    897\u001b[0m                 \u001b[0mself\u001b[0m\u001b[0;34m.\u001b[0m\u001b[0mlog\u001b[0m\u001b[0;34m.\u001b[0m\u001b[0mwarning\u001b[0m\u001b[0;34m(\u001b[0m\u001b[0;34m\"Invalid Message:\"\u001b[0m\u001b[0;34m,\u001b[0m \u001b[0mexc_info\u001b[0m\u001b[0;34m=\u001b[0m\u001b[0;32mTrue\u001b[0m\u001b[0;34m)\u001b[0m\u001b[0;34m\u001b[0m\u001b[0;34m\u001b[0m\u001b[0m\n",
            "\u001b[0;31mKeyboardInterrupt\u001b[0m: Interrupted by user"
          ]
        }
      ]
    },
    {
      "cell_type": "code",
      "source": [
        "#finally\n",
        "try:\n",
        "  x=int(input(\"Enter a number:\"))\n",
        "  res=50/x\n",
        "except:\n",
        "  print(\"Some error occurred\")\n",
        "else:\n",
        "  print(res)\n",
        "finally:\n",
        " print(\"Did everything\")\n"
      ],
      "metadata": {
        "colab": {
          "base_uri": "https://localhost:8080/"
        },
        "id": "PDhGxf8pnmkG",
        "outputId": "1ab31520-07d7-42cf-aa57-246c6a5a0508"
      },
      "execution_count": 2,
      "outputs": [
        {
          "output_type": "stream",
          "name": "stdout",
          "text": [
            "Enter a number:2\n",
            "25.0\n",
            "Did everything\n"
          ]
        }
      ]
    },
    {
      "cell_type": "code",
      "source": [
        "#raising exceptions\n",
        "try:\n",
        "  age=int(input(\"Enter the age:\"))\n",
        "  if (age<18):\n",
        "    raise E\n",
        "  else:\n",
        "    print(\"Age is valid\")\n",
        "except:\n",
        "  print(\"Age is not valid\")"
      ],
      "metadata": {
        "colab": {
          "base_uri": "https://localhost:8080/"
        },
        "id": "ZbDCJSiYqWUQ",
        "outputId": "52ddee6e-1976-4892-a601-ced49d3d2919"
      },
      "execution_count": 5,
      "outputs": [
        {
          "output_type": "stream",
          "name": "stdout",
          "text": [
            "Enter the age:11\n",
            "Age is not valid\n"
          ]
        }
      ]
    },
    {
      "cell_type": "code",
      "source": [
        "#user defined exceptions using\n",
        "#class Error1(Exception):\n",
        "  #none\n",
        "#raise Error1"
      ],
      "metadata": {
        "id": "yGbuDxXWr1Pm"
      },
      "execution_count": 7,
      "outputs": []
    }
  ]
}